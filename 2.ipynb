{
 "cells": [
  {
   "cell_type": "markdown",
   "metadata": {},
   "source": [
    "recebe dados"
   ]
  },
  {
   "cell_type": "code",
   "execution_count": null,
   "metadata": {},
   "outputs": [],
   "source": [
    "num = 9"
   ]
  },
  {
   "cell_type": "code",
   "execution_count": null,
   "metadata": {},
   "outputs": [],
   "source": [
    "anterior = []"
   ]
  },
  {
   "cell_type": "code",
   "execution_count": null,
   "metadata": {},
   "outputs": [],
   "source": [
    "for i in range(2):\n",
    "    num -=1\n",
    "    anterior.append(int(num))\n",
    "    "
   ]
  },
  {
   "cell_type": "code",
   "execution_count": null,
   "metadata": {},
   "outputs": [],
   "source": [
    "soma = anterior[0]+anterior[1]"
   ]
  },
  {
   "cell_type": "code",
   "execution_count": null,
   "metadata": {},
   "outputs": [],
   "source": [
    "print(soma)"
   ]
  },
  {
   "cell_type": "code",
   "execution_count": null,
   "metadata": {},
   "outputs": [],
   "source": [
    "num = 0\n",
    "num2 = 0\n",
    "while True:\n",
    "    num = num + num2\n",
    "    num2 = num - num2\n",
    "    if num2 == 0:\n",
    "        num2 = 1\n",
    "    \n",
    "    print(num)\n",
    "    if num2 == 10:\n",
    "        break    "
   ]
  },
  {
   "cell_type": "code",
   "execution_count": 15,
   "metadata": {},
   "outputs": [],
   "source": [
    "import csv\n",
    "from itertools import groupby\n",
    "with open('faturamento.csv', mode='w') as arq:\n",
    "    escritor = csv.writer(arq)\n",
    "    escritor.writerow(['ESTADO','FATURAMENTO '])   \n",
    "    escritor.writerow(['SP',67.83643])   \n",
    "    escritor.writerow(['RJ',36.67866])   \n",
    "    escritor.writerow(['MG',29.22988])   \n",
    "    escritor.writerow(['ES',27.16558])   \n",
    "    escritor.writerow(['OUTROS',19.84853])  "
   ]
  },
  {
   "cell_type": "code",
   "execution_count": 16,
   "metadata": {},
   "outputs": [
    {
     "ename": "KeyError",
     "evalue": "'FATURAMENTO'",
     "output_type": "error",
     "traceback": [
      "\u001b[1;31m---------------------------------------------------------------------------\u001b[0m",
      "\u001b[1;31mKeyError\u001b[0m                                  Traceback (most recent call last)",
      "Cell \u001b[1;32mIn[16], line 5\u001b[0m\n\u001b[0;32m      3\u001b[0m total \u001b[38;5;241m=\u001b[39m \u001b[38;5;241m0\u001b[39m\n\u001b[0;32m      4\u001b[0m \u001b[38;5;28;01mfor\u001b[39;00m valor \u001b[38;5;129;01min\u001b[39;00m leitor:\n\u001b[1;32m----> 5\u001b[0m     faturamento \u001b[38;5;241m=\u001b[39m \u001b[38;5;28mfloat\u001b[39m(\u001b[43mvalor\u001b[49m\u001b[43m[\u001b[49m\u001b[38;5;124;43m'\u001b[39;49m\u001b[38;5;124;43mFATURAMENTO\u001b[39;49m\u001b[38;5;124;43m'\u001b[39;49m\u001b[43m]\u001b[49m)       \n\u001b[0;32m      6\u001b[0m     total \u001b[38;5;241m=\u001b[39m total \u001b[38;5;241m+\u001b[39m faturamento \n\u001b[0;32m      7\u001b[0m \u001b[38;5;28;01mfor\u001b[39;00m estado \u001b[38;5;129;01min\u001b[39;00m leitor:\n",
      "\u001b[1;31mKeyError\u001b[0m: 'FATURAMENTO'"
     ]
    }
   ],
   "source": [
    "with open('faturamento.csv', mode='r') as arq:\n",
    "    leitor = csv.DictReader(arq)\n",
    "    total = 0\n",
    "    for valor in leitor:\n",
    "        faturamento = float(valor['FATURAMENTO'])       \n",
    "        total = total + faturamento \n",
    "    for estado in leitor:\n",
    "        faturamento = float(valor['FATURAMENTO']) \n",
    "        porcentual = ((faturamento/total)*100)\n",
    "    \n",
    "        print(f\"{estado['ESTADO']} {porcentual:.2F}%\")    "
   ]
  }
 ],
 "metadata": {
  "kernelspec": {
   "display_name": "test",
   "language": "python",
   "name": "python3"
  },
  "language_info": {
   "codemirror_mode": {
    "name": "ipython",
    "version": 3
   },
   "file_extension": ".py",
   "mimetype": "text/x-python",
   "name": "python",
   "nbconvert_exporter": "python",
   "pygments_lexer": "ipython3",
   "version": "3.12.4"
  }
 },
 "nbformat": 4,
 "nbformat_minor": 2
}
